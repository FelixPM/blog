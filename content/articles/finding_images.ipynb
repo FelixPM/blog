{
 "cells": [
  {
   "cell_type": "markdown",
   "metadata": {},
   "source": [
    "As in actual memories.\n",
    "\n",
    "It's pictures, I'm talking about pictures.\n",
    "\n",
    "Over 10 years ago I participated in a World of Warcraft community event called *Warcraft Battlecry*, commemorating\n",
    "the game's 5th anniversary, the event had fans sending pictures, showing\n",
    "support with their faction logo, the goal was to gather 20.000 pictures and use them on a big mosaic showing game\n",
    "characters, here's the final mosaic and it shows all the race leaders at the time *(spoilers: times sure have changed)*:\n",
    "\n",
    "![Battlecry]({static}/images/mosaic_smaller.jpg)\n",
    "\n",
    "The image has been scaled down, the original can be found [here.](http://us.media.blizzard.com//wow/anniversary/_images/ilovesc/wallpapers/source-mosaic-14400x6150.jpg)\n",
    "\n",
    "\n",
    "Back then I submitted two pictures which unfortunately I never saved properly and somehow lost them.\n",
    "No big deal I\n",
    "thought, just go to the event site and download them, but what do you know it's been 10 years and the\n",
    "[site is no longer available](https://worldofwarcraft.com/en-us/wowanniversary/battlecry), so no luck there.\n",
    "\n",
    "My second thought\n",
    "was to check [wayback machine](https://archive.org/web/) the *digital archive of the World Wide Web*, and after what seemed like countless hours looking at website snapshots,\n",
    "I finally gave up because there was nothing useful there.\n",
    "\n",
    "And that could be the end of this blog post, but fortunately, I kept searching and eventually came across a forum discussing the event\n",
    "where users had shared their submissions, and among them, I noticed that the images they linked where hosted on Blizzard media\n",
    "servers and they still worked! Finally some hope, the links I found have the following format:\n",
    "\n",
    "us.media.blizzard.com/wow/anniversary/_images/ilovesc/gallery/full/**XXXX**.jpg\n",
    "\n",
    "With **XXXX** being random numbers, except they are not random and if you been paying attention you might have guessed that\n",
    "they are just enumerating from 1 to 20000, the number of submissions for the event.\n",
    "\n",
    "Now I just have to check 20000 links to find my pictures, about 2 days worth of fun!\n",
    "But instead of having fun, I decided to write a\n",
    "short Python code to download all images:\n",
    "\n",
    "### Getting all the pictures\n",
    "I'm using the [requests](https://requests.readthedocs.io/en/master/) library to retrieve the image data and\n",
    "[pillow](https://pillow.readthedocs.io/en/stable/) to save them."
   ]
  },
  {
   "cell_type": "code",
   "execution_count": 1,
   "metadata": {
    "pycharm": {
     "name": "#%%\n"
    }
   },
   "outputs": [],
   "source": [
    "import time\n",
    "import requests\n",
    "from PIL import Image\n",
    "from io import BytesIO"
   ]
  },
  {
   "cell_type": "code",
   "execution_count": null,
   "metadata": {
    "pycharm": {
     "name": "#%%\n"
    }
   },
   "outputs": [],
   "source": [
    "image_url = 'http://us.media.blizzard.com/wow/anniversary/_images/ilovesc/gallery/full/'\n",
    "for i in range(1, 20001):\n",
    "    try:\n",
    "        response = requests.get(image_url+str(i)+'.jpg')\n",
    "        response.raise_for_status()\n",
    "        img = Image.open(BytesIO(response.content))\n",
    "        img.save('images/'+str(i)+'.jpg')\n",
    "        time.sleep(1)\n",
    "    except:\n",
    "        continue"
   ]
  },
  {
   "cell_type": "markdown",
   "metadata": {},
   "source": [
    "Catching errors due to missing pictures with the try/except block and added a time delay in between requests, wouldn’t want to get IP blocked\n",
    "for making too many requests too quickly, so just in case."
   ]
  },
  {
   "cell_type": "markdown",
   "metadata": {},
   "source": [
    "### Sorting through all the pictures!\n",
    "Now I have nearly 20000 pictures in a folder and I guess I could try finding the one's I'm looking for searching one-by-one, by skimming\n",
    "through or maybe just randomly scrolling through the folder and hoping for some luck, but instead and unsurprisingly I write some Python code.\n",
    "\n",
    "So, I need to check every image and decide how similar they are to the ones I'm looking for, but how can I tell if\n",
    "something is similar to what I'm looking if I haven't found it?\n",
    "Well, it turns out that I do have them it's just that they are really tiny and pixelated and part of the mosaic! And for\n",
    "some reason I remember exactly where my submissions are on the mosaic (having to look for them on the mosaic would defeat\n",
    "the purpose and be no different than looking through the folder).\n",
    "\n",
    "On Thrall's forehead and on the sky, high above Thrall's right shoulder, knowing this and the size of each image in the mosaic:"
   ]
  },
  {
   "cell_type": "code",
   "execution_count": 2,
   "metadata": {
    "pycharm": {
     "name": "#%%\n"
    }
   },
   "outputs": [],
   "source": [
    "mosaic = Image.open('source-mosaic.jpg')"
   ]
  },
  {
   "cell_type": "code",
   "execution_count": null,
   "metadata": {
    "pycharm": {
     "name": "#%%\n"
    }
   },
   "outputs": [],
   "source": [
    "cropped1 = mosaic.crop((72*81, 62*39, 72*82, 62*40))"
   ]
  },
  {
   "cell_type": "markdown",
   "metadata": {},
   "source": [
    "![cropped1]({static}/images/cropped1.jpg)"
   ]
  },
  {
   "cell_type": "code",
   "execution_count": null,
   "metadata": {
    "pycharm": {
     "name": "#%%\n"
    }
   },
   "outputs": [],
   "source": [
    "cropped2 = mosaic.crop((72*92, 62*3, 72*93, 62*4))"
   ]
  },
  {
   "cell_type": "markdown",
   "metadata": {},
   "source": [
    "![cropped2]({static}/images/cropped2.jpg)"
   ]
  },
  {
   "cell_type": "markdown",
   "metadata": {},
   "source": [
    "Yup, that's them alright."
   ]
  },
  {
   "cell_type": "markdown",
   "metadata": {},
   "source": [
    "### Image similarity\n",
    "\n",
    "For the final part I use the [scikit-image](https://scikit-image.org/) open-source library, specifically the\n",
    "[structural similarity](https://en.wikipedia.org/wiki/Structural_similarity) metric which\n",
    "computes the mean structural similarity index between two images. My first attempt was using the mean-squared error\n",
    "(MSE), and even though it correctly identified both pictures to have the lowest error in comparison, a few other pictures\n",
    "also had a low MSE that was very close to the actual pictures. So after a quick google search I found the Structural similarity index\n",
    "which is actually used for measuring image quality degradation such as data compression, which is also the case here.\n"
   ]
  },
  {
   "cell_type": "code",
   "execution_count": 5,
   "metadata": {
    "pycharm": {
     "name": "#%%\n"
    }
   },
   "outputs": [],
   "source": [
    "from skimage import img_as_float\n",
    "from skimage.metrics import structural_similarity as ssim\n",
    "import glob\n",
    "\n",
    "image_list = glob.glob('images/*.jpg')"
   ]
  },
  {
   "cell_type": "code",
   "execution_count": 6,
   "metadata": {
    "pycharm": {
     "name": "#%%\n"
    }
   },
   "outputs": [],
   "source": [
    "rms_dict = {}\n",
    "ssim_dict = {}\n",
    "for image in image_list:\n",
    "    current_img = Image.open(image).resize((72, 62))\n",
    "    ssim_dict[image] = max(ssim(img_as_float(current_img), img_as_float(cropped1), multichannel=True),\n",
    "                           ssim(img_as_float(current_img), img_as_float(cropped2), multichannel=True))"
   ]
  },
  {
   "cell_type": "code",
   "execution_count": 7,
   "metadata": {
    "pycharm": {
     "name": "#%%\n"
    }
   },
   "outputs": [],
   "source": [
    "sort_ssim_dict = sorted(ssim_dict.items(), key=lambda x: x[1], reverse=True)"
   ]
  },
  {
   "cell_type": "code",
   "execution_count": 8,
   "metadata": {
    "pycharm": {
     "name": "#%%\n"
    }
   },
   "outputs": [
    {
     "data": {
      "text/plain": [
       "[('images\\\\12770.jpg', 0.6981045042871911),\n",
       " ('images\\\\8733.jpg', 0.6330863589957412),\n",
       " ('images\\\\1911.jpg', 0.47486186124543206),\n",
       " ('images\\\\4105.jpg', 0.46810374664922866),\n",
       " ('images\\\\1913.jpg', 0.45973585866367),\n",
       " ('images\\\\10479.jpg', 0.44709977498739106),\n",
       " ('images\\\\4350.jpg', 0.42805649067523593),\n",
       " ('images\\\\7019.jpg', 0.42719153220403716),\n",
       " ('images\\\\9394.jpg', 0.42696480693224265),\n",
       " ('images\\\\5069.jpg', 0.4243696102266792)]"
      ]
     },
     "execution_count": 8,
     "metadata": {},
     "output_type": "execute_result"
    }
   ],
   "source": [
    "sort_ssim_dict[:10]"
   ]
  },
  {
   "cell_type": "markdown",
   "metadata": {
    "pycharm": {
     "is_executing": true,
     "name": "#%% md\n"
    }
   },
   "source": [
    "It correctly identifies the two pictures with a wide margin from all others with scores of 0.63 and 0.69, while every other picture\n",
    "is below 0.48.\n",
    "## Success!\n",
    "\n",
    "![ArtAttack]({static}/images/8733.jpg)\n",
    "\n",
    "![Llaima]({static}/images/12770.jpg)\n",
    "\n",
    "\n",
    "# For the Horde!\n"
   ]
  }
 ],
 "metadata": {
  "kernelspec": {
   "display_name": "Python 3",
   "language": "python",
   "name": "python3"
  },
  "language_info": {
   "codemirror_mode": {
    "name": "ipython",
    "version": 3
   },
   "file_extension": ".py",
   "mimetype": "text/x-python",
   "name": "python",
   "nbconvert_exporter": "python",
   "pygments_lexer": "ipython3",
   "version": "3.8.2"
  }
 },
 "nbformat": 4,
 "nbformat_minor": 1
}